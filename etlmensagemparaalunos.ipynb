{
  "nbformat": 4,
  "nbformat_minor": 0,
  "metadata": {
    "colab": {
      "provenance": [],
      "authorship_tag": "ABX9TyOD3UTbh3Nhojqp5ZzqOegE",
      "include_colab_link": true
    },
    "kernelspec": {
      "name": "python3",
      "display_name": "Python 3"
    },
    "language_info": {
      "name": "python"
    }
  },
  "cells": [
    {
      "cell_type": "markdown",
      "metadata": {
        "id": "view-in-github",
        "colab_type": "text"
      },
      "source": [
        "<a href=\"https://colab.research.google.com/github/eliseuchagas/Professor_Eliseu_Chagas/blob/main/etlmensagemparaalunos.ipynb\" target=\"_parent\"><img src=\"https://colab.research.google.com/assets/colab-badge.svg\" alt=\"Open In Colab\"/></a>"
      ]
    },
    {
      "cell_type": "code",
      "execution_count": 1,
      "metadata": {
        "colab": {
          "base_uri": "https://localhost:8080/"
        },
        "id": "BkBwNQh2a66B",
        "outputId": "7ab016f6-3768-456f-d26b-5b9936a4f4b0"
      },
      "outputs": [
        {
          "output_type": "stream",
          "name": "stdout",
          "text": [
            "Requirement already satisfied: pandas in /usr/local/lib/python3.10/dist-packages (1.5.3)\n",
            "Requirement already satisfied: python-dateutil>=2.8.1 in /usr/local/lib/python3.10/dist-packages (from pandas) (2.8.2)\n",
            "Requirement already satisfied: pytz>=2020.1 in /usr/local/lib/python3.10/dist-packages (from pandas) (2023.3.post1)\n",
            "Requirement already satisfied: numpy>=1.21.0 in /usr/local/lib/python3.10/dist-packages (from pandas) (1.23.5)\n",
            "Requirement already satisfied: six>=1.5 in /usr/local/lib/python3.10/dist-packages (from python-dateutil>=2.8.1->pandas) (1.16.0)\n"
          ]
        }
      ],
      "source": [
        "pip install pandas"
      ]
    },
    {
      "cell_type": "code",
      "source": [
        "import pandas as pd\n",
        "\n",
        "# Ler o arquivo CSV\n",
        "dados = pd.read_csv('notas dos alunos.csv', delimiter=';')\n",
        "\n",
        "# Iterar sobre as linhas do DataFrame\n",
        "for index, row in dados.iterrows():\n",
        "    student_id = row['StudentNumber']\n",
        "    student_name = row['StudentName']\n",
        "    grade = float(row['nota'].replace(',', '.'))  # Substituir vírgula por ponto e converter para float\n",
        "\n",
        "    # Verificar a nota e gerar mensagem\n",
        "    if grade >= 6:\n",
        "        mensagem = f\"Parabéns {student_name}!\"\n",
        "    else:\n",
        "        mensagem = f\"Que pena {student_name}, não foi dessa vez!\"\n",
        "\n",
        "    print(mensagem)\n"
      ],
      "metadata": {
        "colab": {
          "base_uri": "https://localhost:8080/"
        },
        "id": "y6aFC1lxbRbs",
        "outputId": "57758a31-c89c-46b9-b0ae-e58f2c5fd2bb"
      },
      "execution_count": 4,
      "outputs": [
        {
          "output_type": "stream",
          "name": "stdout",
          "text": [
            "Parabéns Ana Beatriz dos Santos de Oliveira!\n",
            "Parabéns Ana Claudia Amelia Rodrigues Gama!\n",
            "Parabéns Ana Lucia Ferreira Garcia!\n",
            "Parabéns Ana Luiza Saggiorato Braido!\n",
            "Parabéns Ana Paula da Cruz Pereira!\n",
            "Que pena Bianca Cristina de Mello, não foi dessa vez!\n",
            "Que pena Bruna dos Santos Rocha, não foi dessa vez!\n",
            "Que pena Carolina Moreira Lima, não foi dessa vez!\n",
            "Parabéns Caroline Sales de Souza!\n",
            "Que pena Daiane de Barros Sousa, não foi dessa vez!\n",
            "Que pena Dayane Silva de Oliveira Bonifacio, não foi dessa vez!\n",
            "Parabéns Erika Freire da silva Carvalho!\n",
            "Parabéns Evellyn Mirella Fernandes Silva!\n",
            "Parabéns Fernanda Oliveira Garcia!\n",
            "Parabéns Iara Natacha Dos Santos!\n",
            "Que pena Ingrid Romeu Damasceno, não foi dessa vez!\n",
            "Parabéns Iraneide Martins Alves!\n",
            "Que pena Jennifer Barreto da Silva, não foi dessa vez!\n",
            "Que pena Jessica Silva Rodrigues, não foi dessa vez!\n",
            "Parabéns Joyce Gotardo Leandro!\n",
            "Que pena Karolina de Freitas Lima, não foi dessa vez!\n",
            "Que pena Larissa Verissimo dos Santos, não foi dessa vez!\n",
            "Parabéns Luana leoncio labela!\n",
            "Parabéns Lucicleide Maria dos Santos Costa!\n",
            "Parabéns Maria Eduarda Santos Silva!\n",
            "Parabéns Maria Eloisa Balbino da Silva!\n",
            "Parabéns Milena Silva Oliveira!\n",
            "Parabéns Pamela Sousa Gabriel da Silva!\n",
            "Parabéns Rondiney Duarte Rodrigues!\n",
            "Parabéns Samuel Madeira Lopes dos Santos!\n",
            "Parabéns Thalia de Cassia Ribeiro Ferreira!\n",
            "Parabéns Thayna Silva de Oliveira!\n",
            "Parabéns Vanessa Maria dos Santos de Almeida!\n",
            "Parabéns Vitoria Camila Pereira Medeiros!\n",
            "Parabéns Wesley Gomes dos Santos!\n"
          ]
        }
      ]
    }
  ]
}